{
 "cells": [
  {
   "cell_type": "markdown",
   "id": "b612e7ec-a346-45ea-9984-01aa5cbeb26c",
   "metadata": {},
   "source": [
    "# 2022 Hunga Tonga Eruption\n",
    "Written by Sage Lichtenwalner, Rutgers University, June 3, 2024\n",
    "\n",
    "**Note this activity is still being developed**\n",
    "\n",
    "On January 15, 2022, the [Hunga Tonga–Hunga Haʻapai volcano](https://en.wikipedia.org/wiki/2022_Hunga_Tonga–Hunga_Haʻapai_eruption_and_tsunami) erupted in the southern Pacific Ocean.  The ensuing erruption created an undertwater tsunami that crossed the entire Pacific Ocean.  The explosion was so severe, the eruption also caused the largest ever recored atmospheric shockwave that propagated around the globe.  \n",
    "\n",
    "A number of ocean tidal and underwater pressure gauges around the Pacific ocean detected the tsunami.  And atmospheric pressure sensors around the world were also above to detect the pressure waves that resulted from the eruption.  The **Ocean Observatories Initiative (OOI)** is one of many observatories that operates several high-resolution atmospheric and ocean pressure sampling instruments.  The OOI includes the Endurance Array off the coast of Oregon in the Northeast Pacific, and the Pioneer NES array in the Mid-Atlantic.  \n",
    "\n",
    "So the question is, did the OOI measure the impact of the volcanic eruption at it's sites thousands of miles away?\n",
    "\n",
    "In this notebook, we will demonstrate how to access and plot data from the two coastal OOI arrays, in the Northweast Pacific and off the New England coast, to see if we can detect the eruption's signature at these locations."
   ]
  },
  {
   "cell_type": "code",
   "execution_count": null,
   "id": "8b52e7f1-2426-4c90-b21c-8ffc36c4e6c1",
   "metadata": {},
   "outputs": [],
   "source": [
    "# Install erddapy\n",
    "# !pip install erddapy"
   ]
  },
  {
   "cell_type": "code",
   "execution_count": null,
   "id": "4e0200d7-0cdc-4072-b39f-fe912e5547a3",
   "metadata": {},
   "outputs": [],
   "source": [
    "# Notebook Setup\n",
    "from erddapy import ERDDAP\n",
    "import pandas as pd\n",
    "import matplotlib.pyplot as plt"
   ]
  },
  {
   "cell_type": "code",
   "execution_count": null,
   "id": "138a9da4-6a93-49c0-9d17-00a1c9560a51",
   "metadata": {},
   "outputs": [],
   "source": [
    "# Setup Erddap connection\n",
    "server = \"https://erddap.dataexplorer.oceanobservatories.org/erddap/\"\n",
    "e = ERDDAP(\n",
    "    server=server,\n",
    "    protocol=\"tabledap\",\n",
    "    response=\"csv\",\n",
    ")"
   ]
  },
  {
   "cell_type": "markdown",
   "id": "0a23609c-6e7e-4be2-aef2-42ec8e04ff1d",
   "metadata": {},
   "source": [
    "## Detecting a Tsunami with Seafloor Pressure\n",
    "First, let's take a look at the seafloor pressure data at the Endurance Array."
   ]
  },
  {
   "cell_type": "code",
   "execution_count": null,
   "id": "e3f80b09-6e0f-4947-9f3f-7f44151cc4d2",
   "metadata": {},
   "outputs": [],
   "source": [
    "# Load CE04 Bottom Pressure\n",
    "url_ce04_bot = e.get_download_url(\n",
    "    dataset_id = \"ooi-ce04osbp-lj01c-06-ctdbpo108\",\n",
    "    constraints = {\n",
    "      \"time>=\": \"2022-01-15\",\n",
    "      \"time<=\": \"2022-01-17\",\n",
    "    }\n",
    ")\n",
    "# print(url_ce04_bot)\n",
    "ce04_bot = pd.read_csv(url_ce04_bot, index_col='time', parse_dates=True, skiprows=[1])\n",
    "ce04_bot.head()"
   ]
  },
  {
   "cell_type": "code",
   "execution_count": null,
   "id": "736dedac-4b33-422b-91a7-b78b8058b07b",
   "metadata": {},
   "outputs": [],
   "source": [
    "ce04_bot['sea_water_pressure'].plot()\n",
    "plt.ylabel('Water Pressure (db)')  \n",
    "plt.title('Oregon Offshore Cabled Benthic Experiment Package (CE04OSBP)')"
   ]
  },
  {
   "cell_type": "markdown",
   "id": "24bd3329-5047-4262-804d-e769d9aad6b2",
   "metadata": {},
   "source": [
    "Quick Quesions\n",
    "* What do you think causes the general pattern you see in the pressure dataset?\n",
    "* Can you see the impact of the tsunami in the pressure daset?  What does it look like?\n",
    "* When did the tsunami first reach this station?\n",
    "\n",
    "To answer this last question, we really need to zoom in on the data a bit more.  We could create a new plot with a narrower time range, or we can try using the [Plotly](https://plotly.com/python/time-series/) library to create an interactive graph.\n"
   ]
  },
  {
   "cell_type": "code",
   "execution_count": null,
   "id": "928b95e4-4cab-4ac1-aa1e-9aed249f0e19",
   "metadata": {},
   "outputs": [],
   "source": [
    "# !pip install plotly\n",
    "import plotly.express as px"
   ]
  },
  {
   "cell_type": "code",
   "execution_count": null,
   "id": "66090a60-d8f2-42c1-b570-df49b265cd47",
   "metadata": {},
   "outputs": [],
   "source": [
    "px.line(x=ce04_bot.index, y=ce04_bot.sea_water_pressure, \n",
    "        labels=dict(y='Waer Pressure (db)'),\n",
    "        title='Oregon Offshore Cabled Benthic Experiment Package (CE04OSBP)')"
   ]
  },
  {
   "cell_type": "markdown",
   "id": "9450c2dc-a8b8-4e9f-b00e-b07f43a734a0",
   "metadata": {},
   "source": [
    "## Calculating Wave Speed\n",
    "Now that you have the time the tsunami reached the Endurance Array, you can calculate the phase speed of the tsunami wave.\n",
    "\n",
    "Phase Speed = Distance between Hunga and Endurance / Time it took to reach Endurance from Hunga\n",
    "\n",
    "Becuse tsunamis act as *shallow water waves* in the ocean, you can calculate their expected phase speed using the shallow water wave equation.\n",
    "\n",
    "C_(phase) = sqrt(g * H)\n",
    "\n",
    "If we assume the height/depth of the ocean is the [average depth of the Pacific Ocean](https://www.britannica.com/place/Pacific-Ocean/Tides) (4,280), how does this estimate of the phase speed compare with what you calculated for the actual tsunami?"
   ]
  },
  {
   "cell_type": "markdown",
   "id": "cf845a60-0b83-4496-8d00-36dd38d8fadd",
   "metadata": {},
   "source": [
    "## Atmospheric Pressure Waves\n",
    "One of the interesting impacts of the eruption was the massive atmospheric pressure wave it also caused.  Can we see this signal at the OOI arrays?"
   ]
  },
  {
   "cell_type": "code",
   "execution_count": null,
   "id": "e72c2217-9c59-424b-9e77-63bd0c92a6b8",
   "metadata": {},
   "outputs": [],
   "source": [
    "# Load CE04 Surface Pressure\n",
    "url_ce04_met = e.get_download_url(\n",
    "    dataset_id = \"ooi-ce04ossm-sbd11-06-metbka000\",\n",
    "    constraints = {\n",
    "      \"time>=\": \"2022-01-15\",\n",
    "      \"time<=\": \"2022-01-17\",\n",
    "    }\n",
    ")\n",
    "# print(url_wave)\n",
    "\n",
    "ce04_met = pd.read_csv(url_ce04_met, index_col='time', parse_dates=True, skiprows=[1])\n",
    "ce04_met.head()"
   ]
  },
  {
   "cell_type": "code",
   "execution_count": null,
   "id": "e8045296-61f7-447a-a3c7-0bde4e7f7663",
   "metadata": {},
   "outputs": [],
   "source": [
    "ce04_met['air_pressure'].plot()\n",
    "plt.ylabel('Air Pressure (mb)');\n",
    "plt.title('Oregon Offshore Surface Mooring (CE04OSSM)');"
   ]
  },
  {
   "cell_type": "markdown",
   "id": "30f5cd8c-896a-4132-affd-b46c6232d44e",
   "metadata": {},
   "source": [
    "## Calculating the Atm Wave Speed\n",
    "In the air, pressure waves typically travel at the [speed of sound](https://en.wikipedia.org/wiki/Speed_of_sound), or about 343 m/s.\n",
    "\n",
    "Calculate the distance between Hunga and this station, and the time it took for the wave to travel, and then compare this with the expected speed."
   ]
  },
  {
   "cell_type": "markdown",
   "id": "857e724a-7023-4584-a349-77bb1204a8b4",
   "metadata": {},
   "source": [
    "## Combining the plots\n",
    "Let's plot both datasets on one graph to see how the timing of the atmospheric and seawater waves compares with each other.\n",
    "\n",
    "Note, due to the way [pandas handles date ticks](https://pandas.pydata.org/docs/user_guide/visualization.html#suppressing-tick-resolution-adjustment), we will *resample* the datsets to have the same timestaps so we can plot them both on the same graph."
   ]
  },
  {
   "cell_type": "code",
   "execution_count": null,
   "id": "aba4b9d0-c560-495d-8d3b-02202a6df6ef",
   "metadata": {},
   "outputs": [],
   "source": [
    "fig,ax1 = plt.subplots()\n",
    "\n",
    "color = 'tab:red'\n",
    "ce04_met['air_pressure'].resample('1min').mean().plot(color=color, ax=ax1)\n",
    "ax1.set_ylabel('Air Pressure (mb)', color=color)\n",
    "ax1.tick_params(axis='y', labelcolor=color)\n",
    "\n",
    "ax1b = ax1.twinx()  # instantiate a second axes that shares the same x-axis\n",
    "color = 'tab:blue'\n",
    "ce04_bot['sea_water_pressure'].resample('1min').mean().plot(color=color, ax=ax1b)\n",
    "ax1b.set_ylabel('Water Pressure (db)', color=color)  \n",
    "ax1b.tick_params(axis='y', labelcolor=color)"
   ]
  },
  {
   "cell_type": "markdown",
   "id": "ab7363a7-b134-47d6-9885-b99eba91277b",
   "metadata": {},
   "source": [
    "## What about the Pioneer Array?\n",
    "Let's take a look at the atmospheric pressure at the Pioneer Array on the US East Coast to see if the impact of teh eruption was measured there."
   ]
  },
  {
   "cell_type": "code",
   "execution_count": null,
   "id": "8adb5f74-8411-4d53-9de0-2e6c03c9f80f",
   "metadata": {},
   "outputs": [],
   "source": [
    "# Load CE04 Surface Pressure\n",
    "url_cp01_met = e.get_download_url(\n",
    "    dataset_id = \"ooi-cp01cnsm-sbd11-06-metbka000\",\n",
    "    constraints = {\n",
    "      \"time>=\": \"2022-01-15\",\n",
    "      \"time<=\": \"2022-01-17\",\n",
    "    }\n",
    ")\n",
    "# print(url_wave)\n",
    "\n",
    "cp01_met = pd.read_csv(url_cp01_met, index_col='time', parse_dates=True, skiprows=[1])\n",
    "cp01_met.head()"
   ]
  },
  {
   "cell_type": "code",
   "execution_count": null,
   "id": "d7bf88eb-adc4-4ee6-a7cd-fffb2788ed99",
   "metadata": {},
   "outputs": [],
   "source": [
    "cp01_met['air_pressure'].plot()\n",
    "plt.ylabel('Air Pressure (mb)');\n",
    "plt.title('Pioneer Array - Central Surface Mooring (CP01CNSM)');"
   ]
  },
  {
   "cell_type": "markdown",
   "id": "11f1e618-6f31-401f-be5f-40079cb98535",
   "metadata": {},
   "source": [
    "Based on this data, calculte the speed of the wave that reached the Pioneer Array.  How does this compare with the expected speed, whcih shoudl be about the speed of sound.\n",
    "\n",
    "*Note, these will be different, becuase (I think) the wave we observe at teh Pioneer Array is actually the reflection from the anti-pode.  If you recalculate the distance from Hunga to the Antipode, and then from there to Pioneer, how does that match?*\n"
   ]
  },
  {
   "cell_type": "markdown",
   "id": "9b13de13-dca6-4df8-9b7b-af3a70ff66b2",
   "metadata": {},
   "source": [
    "## Graphing all 3 datasets"
   ]
  },
  {
   "cell_type": "code",
   "execution_count": null,
   "id": "e378402e-d311-4b73-ae17-e54469d68701",
   "metadata": {},
   "outputs": [],
   "source": [
    "fig,(ax1,ax2,ax3) = plt.subplots(3,1, figsize=(10,6), sharex=True)\n",
    "\n",
    "ce04_bot['sea_water_pressure'].resample('1min').mean().plot(ax=ax1)\n",
    "ax1.set_ylabel('Water Pressure (db)')  \n",
    "ax1.set_title('Oregon Offshore Cabled Benthic Experiment Package (CE04OSBP)')\n",
    "\n",
    "ce04_met['air_pressure'].resample('1min').mean().plot(ax=ax2)\n",
    "ax2.set_ylabel('Air Pressure (mb)')\n",
    "ax2.set_title('Oregon Offshore Surface Mooring (CE04OSSM)')\n",
    "\n",
    "cp01_met['air_pressure'].resample('1min').mean().plot(ax=ax3)\n",
    "ax3.set_ylabel('Air Pressure (mb)')\n",
    "ax3.set_title('Pioneer Array - Central Surface Mooring (CP01CNSM)');\n"
   ]
  },
  {
   "cell_type": "markdown",
   "id": "1aa575f7-5761-4352-83e5-78c622dce818",
   "metadata": {},
   "source": [
    "## Extension Ideas\n",
    "* The Endurance and Pioneer arrays include several atmospheric pressure sensors and underwater tide or pressure gagues.  Can you identify other senors that detected the tsunami or shockwave.\n",
    "* Based on these addtional sensors, is your estimate of the speed the same?\n",
    "* Can you predict when the tsunami would have hit Station Papa?  Can you identify the tsunami in the dataset?\n",
    "* (advanced) Can you predict when the atmospheric shockwave might have hit Irminger Sea station? Can you identify the shockwave in the dataset?"
   ]
  },
  {
   "cell_type": "markdown",
   "id": "c50e7884-14b4-4fca-9cda-616ef5c46fd2",
   "metadata": {},
   "source": [
    "## References\n",
    "First a bunch from EOS...\n",
    "* 6/26/17 - [New Volcanic Island Unveils Explosive Past](https://eos.org/science-updates/new-volcanic-island-unveils-explosive-past)\n",
    "* 3/31/20 - [Satellite Sleuthing Detects Underwater Eruptions](https://eos.org/science-updates/satellite-sleuthing-detects-underwater-eruptions)\n",
    "* ** 1/21/22 - [The Surprising Reach of Tonga’s Giant Atmospheric Waves](https://eos.org/articles/the-surprising-reach-of-tongas-giant-atmospheric-waves)\n",
    "4/21/22 - [Tonga Eruption Made Waves in Earth’s Ionosphere](https://eos.org/research-spotlights/tonga-eruption-made-waves-in-earths-ionosphere)\n",
    "* ** 5/12/22 - [Modeling Atmospheric Waves from Hunga Tonga–Hunga Ha‘apai](https://eos.org/research-spotlights/modeling-atmospheric-waves-from-hunga-tonga-hunga-haapai)\n",
    "* 7/6/22 - [Dynamics of Volcanic Processes](https://eos.org/editors-vox/dynamics-of-volcanic-processes)\n",
    "* 8/10/22 - [Tonga Volcanic Eruption Produced Ionospheric Hole and ‘Bubbles’](https://eos.org/editor-highlights/tonga-volcanic-eruption-produced-ionospheric-hole-and-bubbles)\n",
    "* 10/24/22 - [Tracking Water in the Tongan Volcano’s Massive Eruption Plume](https://eos.org/research-spotlights/tracking-water-in-the-tongan-volcanos-massive-eruption-plume)\n",
    "* 11/4/22 - [Looking to the Sky for Better Tsunami Warnings](https://eos.org/opinions/looking-to-the-sky-for-better-tsunami-warnings)\n",
    "* 12/14/22 - [Social Media Posts Reveal Human Responses to Deadly Tongan Eruption](https://eos.org/articles/social-media-posts-reveal-human-responses-to-deadly-tongan-eruption)\n",
    "\n",
    "** Definitely start with these.  And I highly recommend clicking through to the article on the 2nd one and downloading the movie in the supplemental info.\n",
    "\n",
    "* 3/29/22 R-Bloggers - [Using R to detect the pressure wave from the 2022 Hunga Tonga eruption in personal weather station data](https://www.r-bloggers.com/2022/03/using-r-to-detect-the-pressure-wave-from-the-2022-hunga-tonga-eruption-in-personal-weather-station-data/) My dad sent this one to me - I'm more of a python guy ;)  \n",
    "\n",
    "* 4/14/22 - NY Times - [It’s Super Spectacular.’ See How the Tonga Volcano Unleashed a Once-in-a-Century Shockwave](https://www.nytimes.com/interactive/2022/04/14/upshot/tonga-pressure-wave.html?unlocked_article_code=BXzP1PdwKMEyDz5JpHMk8piiief7vY8Inqq45cquJJzIXMY-_9PM1HeuXVDELGdLtaOOpSHYZnnA2ZIN6ymupdmlzqOmSYHlF3_9WpQ1xGLI8gwIKoA0_HKEwOuD23WEYoeoF5vZqHmjwK_SHTBLLfdP4Z9_cbM7by000oa8-RzNNfP6L8hUww1nzlISZh8gc_QM7Io2lP3bC46esNfGZAeDrnUlz96PEmSVIYH636cC0zaWh48_Yg82M_-Llfoh8NOdAbw-RgqOE7DGr0J_czePBK3IMrXg4lGoQ4yqm6R4toT6dZ46-ReQk8gU44Mnm6sxMeQUgiMOhbReaC3c8d6sPgf3FLaa3QJEng&smid=share-url) \n",
    "\n",
    "* 8/29/22 - Science News - [The Tonga eruption may have spawned a tsunami as tall as the Statue of Liberty](https://www.sciencenews.org/article/tonga-volcano-eruption-tsunami-shock-wave)\n",
    "\n",
    "Finally, here are some posts on Flowing Data, which collects some of the best data visualizations from around the web.\n",
    "* 1/18/22 - [Global ripple effect from underwater volcano](https://flowingdata.com/2022/01/18/global-ripple-effect-from-underwater-volcano/)\n",
    "* 1/24/22 - [Scale of the Tonga eruption](https://flowingdata.com/2022/01/24/scale-of-the-tonga-eruption/)\n",
    "* 4/15/22 - [Tonga shockwave around the world](https://flowingdata.com/2022/04/15/tonga-shockwave-around-the-world/)\n",
    "* 11/25/22 - [Depth of the underwater Tonga volcano](https://flowingdata.com/2022/11/25/depth-of-the-underwater-tonga-volcano/)\n"
   ]
  },
  {
   "cell_type": "code",
   "execution_count": null,
   "id": "e155688e-6484-4455-b0c4-26a80217ffb6",
   "metadata": {},
   "outputs": [],
   "source": []
  }
 ],
 "metadata": {
  "kernelspec": {
   "display_name": "Python 3 (ipykernel)",
   "language": "python",
   "name": "python3"
  },
  "language_info": {
   "codemirror_mode": {
    "name": "ipython",
    "version": 3
   },
   "file_extension": ".py",
   "mimetype": "text/x-python",
   "name": "python",
   "nbconvert_exporter": "python",
   "pygments_lexer": "ipython3",
   "version": "3.12.3"
  }
 },
 "nbformat": 4,
 "nbformat_minor": 5
}
